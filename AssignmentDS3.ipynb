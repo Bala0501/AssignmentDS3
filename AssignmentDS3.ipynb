{
  "nbformat": 4,
  "nbformat_minor": 0,
  "metadata": {
    "colab": {
      "name": "AssignmentDS3.ipynb",
      "provenance": [],
      "collapsed_sections": []
    },
    "kernelspec": {
      "name": "python3",
      "display_name": "Python 3"
    },
    "language_info": {
      "name": "python"
    }
  },
  "cells": [
    {
      "cell_type": "code",
      "metadata": {
        "id": "qqAbg1gahBcW"
      },
      "source": [
        "import numpy as np\n",
        "import pandas as pd\n",
        "\n",
        "dict_a = {'column A':[1,2,5,8],\n",
        "         'column B':['Alex','Vijay','Ajith','Surya'],\n",
        "         'column C':[True,False,False,True]}\n",
        "df_a = pd.DataFrame(dict_a)\n"
      ],
      "execution_count": 34,
      "outputs": []
    },
    {
      "cell_type": "code",
      "metadata": {
        "colab": {
          "base_uri": "https://localhost:8080/",
          "height": 172
        },
        "id": "7LXoJusYn8Jw",
        "outputId": "20e1d2a2-2d6e-4129-ef29-e740fa01695b"
      },
      "source": [
        "df_a"
      ],
      "execution_count": 35,
      "outputs": [
        {
          "output_type": "execute_result",
          "data": {
            "text/html": [
              "<div>\n",
              "<style scoped>\n",
              "    .dataframe tbody tr th:only-of-type {\n",
              "        vertical-align: middle;\n",
              "    }\n",
              "\n",
              "    .dataframe tbody tr th {\n",
              "        vertical-align: top;\n",
              "    }\n",
              "\n",
              "    .dataframe thead th {\n",
              "        text-align: right;\n",
              "    }\n",
              "</style>\n",
              "<table border=\"1\" class=\"dataframe\">\n",
              "  <thead>\n",
              "    <tr style=\"text-align: right;\">\n",
              "      <th></th>\n",
              "      <th>column A</th>\n",
              "      <th>column B</th>\n",
              "      <th>column C</th>\n",
              "    </tr>\n",
              "  </thead>\n",
              "  <tbody>\n",
              "    <tr>\n",
              "      <th>0</th>\n",
              "      <td>1</td>\n",
              "      <td>Alex</td>\n",
              "      <td>True</td>\n",
              "    </tr>\n",
              "    <tr>\n",
              "      <th>1</th>\n",
              "      <td>2</td>\n",
              "      <td>Vijay</td>\n",
              "      <td>False</td>\n",
              "    </tr>\n",
              "    <tr>\n",
              "      <th>2</th>\n",
              "      <td>5</td>\n",
              "      <td>Ajith</td>\n",
              "      <td>False</td>\n",
              "    </tr>\n",
              "    <tr>\n",
              "      <th>3</th>\n",
              "      <td>8</td>\n",
              "      <td>Surya</td>\n",
              "      <td>True</td>\n",
              "    </tr>\n",
              "  </tbody>\n",
              "</table>\n",
              "</div>"
            ],
            "text/plain": [
              "   column A column B  column C\n",
              "0         1     Alex      True\n",
              "1         2    Vijay     False\n",
              "2         5    Ajith     False\n",
              "3         8    Surya      True"
            ]
          },
          "metadata": {},
          "execution_count": 35
        }
      ]
    },
    {
      "cell_type": "code",
      "metadata": {
        "colab": {
          "base_uri": "https://localhost:8080/"
        },
        "id": "yCY9YbDSkt6L",
        "outputId": "f0b094da-551b-4331-dd4c-7113eaa36c9e"
      },
      "source": [
        "df_a.dtypes"
      ],
      "execution_count": 36,
      "outputs": [
        {
          "output_type": "execute_result",
          "data": {
            "text/plain": [
              "column A     int64\n",
              "column B    object\n",
              "column C      bool\n",
              "dtype: object"
            ]
          },
          "metadata": {},
          "execution_count": 36
        }
      ]
    },
    {
      "cell_type": "code",
      "metadata": {
        "colab": {
          "base_uri": "https://localhost:8080/"
        },
        "id": "LWvAYPW3o_FR",
        "outputId": "08cdde9d-7841-48b2-f187-74a136c689a5"
      },
      "source": [
        "dict_b = {'column A': np.random.randn(50), \n",
        "         'column B': np.random.randint(10, size=50)}\n",
        "df_b = pd.DataFrame(dict_b)\n",
        "df_b.shape\n",
        "(50,2)"
      ],
      "execution_count": 39,
      "outputs": [
        {
          "output_type": "execute_result",
          "data": {
            "text/plain": [
              "(50, 2)"
            ]
          },
          "metadata": {},
          "execution_count": 39
        }
      ]
    },
    {
      "cell_type": "code",
      "metadata": {
        "colab": {
          "base_uri": "https://localhost:8080/",
          "height": 203
        },
        "id": "lvFexcZOplDY",
        "outputId": "96b88cd9-aa30-4819-86d4-8348a213047d"
      },
      "source": [
        "df_b.head()"
      ],
      "execution_count": 41,
      "outputs": [
        {
          "output_type": "execute_result",
          "data": {
            "text/html": [
              "<div>\n",
              "<style scoped>\n",
              "    .dataframe tbody tr th:only-of-type {\n",
              "        vertical-align: middle;\n",
              "    }\n",
              "\n",
              "    .dataframe tbody tr th {\n",
              "        vertical-align: top;\n",
              "    }\n",
              "\n",
              "    .dataframe thead th {\n",
              "        text-align: right;\n",
              "    }\n",
              "</style>\n",
              "<table border=\"1\" class=\"dataframe\">\n",
              "  <thead>\n",
              "    <tr style=\"text-align: right;\">\n",
              "      <th></th>\n",
              "      <th>column A</th>\n",
              "      <th>column B</th>\n",
              "    </tr>\n",
              "  </thead>\n",
              "  <tbody>\n",
              "    <tr>\n",
              "      <th>0</th>\n",
              "      <td>0.926154</td>\n",
              "      <td>8</td>\n",
              "    </tr>\n",
              "    <tr>\n",
              "      <th>1</th>\n",
              "      <td>0.683408</td>\n",
              "      <td>2</td>\n",
              "    </tr>\n",
              "    <tr>\n",
              "      <th>2</th>\n",
              "      <td>-0.100741</td>\n",
              "      <td>2</td>\n",
              "    </tr>\n",
              "    <tr>\n",
              "      <th>3</th>\n",
              "      <td>-0.265567</td>\n",
              "      <td>7</td>\n",
              "    </tr>\n",
              "    <tr>\n",
              "      <th>4</th>\n",
              "      <td>-0.043879</td>\n",
              "      <td>9</td>\n",
              "    </tr>\n",
              "  </tbody>\n",
              "</table>\n",
              "</div>"
            ],
            "text/plain": [
              "   column A  column B\n",
              "0  0.926154         8\n",
              "1  0.683408         2\n",
              "2 -0.100741         2\n",
              "3 -0.265567         7\n",
              "4 -0.043879         9"
            ]
          },
          "metadata": {},
          "execution_count": 41
        }
      ]
    },
    {
      "cell_type": "code",
      "metadata": {
        "colab": {
          "base_uri": "https://localhost:8080/"
        },
        "id": "Wa-ImJLBpxBr",
        "outputId": "1e4cca9b-9af9-491a-cbbd-efb45c214f1f"
      },
      "source": [
        "np.random.randn(5,4)"
      ],
      "execution_count": 42,
      "outputs": [
        {
          "output_type": "execute_result",
          "data": {
            "text/plain": [
              "array([[-0.53529215,  0.35741228, -0.45854998,  0.29290962],\n",
              "       [-0.67829158,  1.13189682,  0.29355633, -0.37600862],\n",
              "       [-0.02909755, -0.0340891 ,  0.19744254,  0.14768989],\n",
              "       [ 0.06309935,  0.47223285,  0.53113811,  0.06819252],\n",
              "       [ 0.30733141, -0.45104776,  0.65022007,  0.7859621 ]])"
            ]
          },
          "metadata": {},
          "execution_count": 42
        }
      ]
    },
    {
      "cell_type": "code",
      "metadata": {
        "id": "BjtJh3xmqC5t"
      },
      "source": [
        "df_c = pd.DataFrame(np.random.randn(5,4))"
      ],
      "execution_count": 43,
      "outputs": []
    },
    {
      "cell_type": "code",
      "metadata": {
        "colab": {
          "base_uri": "https://localhost:8080/",
          "height": 203
        },
        "id": "Dhr3CpbFqK6a",
        "outputId": "c80190af-3949-44e2-d919-c9f0f23cb85d"
      },
      "source": [
        "df_c"
      ],
      "execution_count": 44,
      "outputs": [
        {
          "output_type": "execute_result",
          "data": {
            "text/html": [
              "<div>\n",
              "<style scoped>\n",
              "    .dataframe tbody tr th:only-of-type {\n",
              "        vertical-align: middle;\n",
              "    }\n",
              "\n",
              "    .dataframe tbody tr th {\n",
              "        vertical-align: top;\n",
              "    }\n",
              "\n",
              "    .dataframe thead th {\n",
              "        text-align: right;\n",
              "    }\n",
              "</style>\n",
              "<table border=\"1\" class=\"dataframe\">\n",
              "  <thead>\n",
              "    <tr style=\"text-align: right;\">\n",
              "      <th></th>\n",
              "      <th>0</th>\n",
              "      <th>1</th>\n",
              "      <th>2</th>\n",
              "      <th>3</th>\n",
              "    </tr>\n",
              "  </thead>\n",
              "  <tbody>\n",
              "    <tr>\n",
              "      <th>0</th>\n",
              "      <td>-0.063626</td>\n",
              "      <td>0.103732</td>\n",
              "      <td>0.339352</td>\n",
              "      <td>1.378781</td>\n",
              "    </tr>\n",
              "    <tr>\n",
              "      <th>1</th>\n",
              "      <td>-1.264897</td>\n",
              "      <td>0.194018</td>\n",
              "      <td>-0.466368</td>\n",
              "      <td>0.243856</td>\n",
              "    </tr>\n",
              "    <tr>\n",
              "      <th>2</th>\n",
              "      <td>1.005225</td>\n",
              "      <td>-0.825063</td>\n",
              "      <td>-0.113229</td>\n",
              "      <td>-0.671136</td>\n",
              "    </tr>\n",
              "    <tr>\n",
              "      <th>3</th>\n",
              "      <td>-0.589351</td>\n",
              "      <td>-0.639311</td>\n",
              "      <td>-0.601631</td>\n",
              "      <td>0.174542</td>\n",
              "    </tr>\n",
              "    <tr>\n",
              "      <th>4</th>\n",
              "      <td>-1.057644</td>\n",
              "      <td>0.607206</td>\n",
              "      <td>-0.657943</td>\n",
              "      <td>0.424209</td>\n",
              "    </tr>\n",
              "  </tbody>\n",
              "</table>\n",
              "</div>"
            ],
            "text/plain": [
              "          0         1         2         3\n",
              "0 -0.063626  0.103732  0.339352  1.378781\n",
              "1 -1.264897  0.194018 -0.466368  0.243856\n",
              "2  1.005225 -0.825063 -0.113229 -0.671136\n",
              "3 -0.589351 -0.639311 -0.601631  0.174542\n",
              "4 -1.057644  0.607206 -0.657943  0.424209"
            ]
          },
          "metadata": {},
          "execution_count": 44
        }
      ]
    },
    {
      "cell_type": "code",
      "metadata": {
        "id": "JycfM_pRqTsp"
      },
      "source": [
        "df_d = pd.DataFrame(np.random.randn(5,4), \n",
        "columns=['a','b','c','d'])"
      ],
      "execution_count": 46,
      "outputs": []
    },
    {
      "cell_type": "code",
      "metadata": {
        "colab": {
          "base_uri": "https://localhost:8080/",
          "height": 203
        },
        "id": "NczIUOMaqffl",
        "outputId": "faaae39c-e0dd-4304-cd6b-f91be2f8fc6d"
      },
      "source": [
        "df_d"
      ],
      "execution_count": 47,
      "outputs": [
        {
          "output_type": "execute_result",
          "data": {
            "text/html": [
              "<div>\n",
              "<style scoped>\n",
              "    .dataframe tbody tr th:only-of-type {\n",
              "        vertical-align: middle;\n",
              "    }\n",
              "\n",
              "    .dataframe tbody tr th {\n",
              "        vertical-align: top;\n",
              "    }\n",
              "\n",
              "    .dataframe thead th {\n",
              "        text-align: right;\n",
              "    }\n",
              "</style>\n",
              "<table border=\"1\" class=\"dataframe\">\n",
              "  <thead>\n",
              "    <tr style=\"text-align: right;\">\n",
              "      <th></th>\n",
              "      <th>a</th>\n",
              "      <th>b</th>\n",
              "      <th>c</th>\n",
              "      <th>d</th>\n",
              "    </tr>\n",
              "  </thead>\n",
              "  <tbody>\n",
              "    <tr>\n",
              "      <th>0</th>\n",
              "      <td>0.474487</td>\n",
              "      <td>0.125230</td>\n",
              "      <td>0.516299</td>\n",
              "      <td>-0.485312</td>\n",
              "    </tr>\n",
              "    <tr>\n",
              "      <th>1</th>\n",
              "      <td>-0.860477</td>\n",
              "      <td>-0.330481</td>\n",
              "      <td>-0.583851</td>\n",
              "      <td>0.815269</td>\n",
              "    </tr>\n",
              "    <tr>\n",
              "      <th>2</th>\n",
              "      <td>0.187536</td>\n",
              "      <td>1.382839</td>\n",
              "      <td>-0.827114</td>\n",
              "      <td>-0.456681</td>\n",
              "    </tr>\n",
              "    <tr>\n",
              "      <th>3</th>\n",
              "      <td>2.090190</td>\n",
              "      <td>-1.602758</td>\n",
              "      <td>0.151606</td>\n",
              "      <td>0.140714</td>\n",
              "    </tr>\n",
              "    <tr>\n",
              "      <th>4</th>\n",
              "      <td>-0.162014</td>\n",
              "      <td>1.678602</td>\n",
              "      <td>-0.131787</td>\n",
              "      <td>-1.571680</td>\n",
              "    </tr>\n",
              "  </tbody>\n",
              "</table>\n",
              "</div>"
            ],
            "text/plain": [
              "          a         b         c         d\n",
              "0  0.474487  0.125230  0.516299 -0.485312\n",
              "1 -0.860477 -0.330481 -0.583851  0.815269\n",
              "2  0.187536  1.382839 -0.827114 -0.456681\n",
              "3  2.090190 -1.602758  0.151606  0.140714\n",
              "4 -0.162014  1.678602 -0.131787 -1.571680"
            ]
          },
          "metadata": {},
          "execution_count": 47
        }
      ]
    },
    {
      "cell_type": "code",
      "metadata": {
        "id": "TJAhWjdjqip2"
      },
      "source": [
        "index = pd.date_range('2021-09-21','2021-09-25')\n",
        "df_e = pd.DataFrame(np.random.randn(5,4),\n",
        "                    columns=['a','b','c','d'],\n",
        "                    index=index)"
      ],
      "execution_count": 52,
      "outputs": []
    },
    {
      "cell_type": "code",
      "metadata": {
        "colab": {
          "base_uri": "https://localhost:8080/",
          "height": 203
        },
        "id": "g-2VViIRqrgS",
        "outputId": "69a6a5dd-eb05-4609-98ab-db5f96a8d7c1"
      },
      "source": [
        "df_e"
      ],
      "execution_count": 53,
      "outputs": [
        {
          "output_type": "execute_result",
          "data": {
            "text/html": [
              "<div>\n",
              "<style scoped>\n",
              "    .dataframe tbody tr th:only-of-type {\n",
              "        vertical-align: middle;\n",
              "    }\n",
              "\n",
              "    .dataframe tbody tr th {\n",
              "        vertical-align: top;\n",
              "    }\n",
              "\n",
              "    .dataframe thead th {\n",
              "        text-align: right;\n",
              "    }\n",
              "</style>\n",
              "<table border=\"1\" class=\"dataframe\">\n",
              "  <thead>\n",
              "    <tr style=\"text-align: right;\">\n",
              "      <th></th>\n",
              "      <th>a</th>\n",
              "      <th>b</th>\n",
              "      <th>c</th>\n",
              "      <th>d</th>\n",
              "    </tr>\n",
              "  </thead>\n",
              "  <tbody>\n",
              "    <tr>\n",
              "      <th>2021-09-21</th>\n",
              "      <td>-2.038133</td>\n",
              "      <td>-1.104401</td>\n",
              "      <td>-1.895722</td>\n",
              "      <td>1.134665</td>\n",
              "    </tr>\n",
              "    <tr>\n",
              "      <th>2021-09-22</th>\n",
              "      <td>1.444723</td>\n",
              "      <td>0.756179</td>\n",
              "      <td>-0.143790</td>\n",
              "      <td>-0.423577</td>\n",
              "    </tr>\n",
              "    <tr>\n",
              "      <th>2021-09-23</th>\n",
              "      <td>-0.016780</td>\n",
              "      <td>-0.211663</td>\n",
              "      <td>1.637743</td>\n",
              "      <td>-1.047473</td>\n",
              "    </tr>\n",
              "    <tr>\n",
              "      <th>2021-09-24</th>\n",
              "      <td>-0.130385</td>\n",
              "      <td>0.212221</td>\n",
              "      <td>0.235909</td>\n",
              "      <td>0.913849</td>\n",
              "    </tr>\n",
              "    <tr>\n",
              "      <th>2021-09-25</th>\n",
              "      <td>1.379800</td>\n",
              "      <td>1.464644</td>\n",
              "      <td>0.349115</td>\n",
              "      <td>2.686932</td>\n",
              "    </tr>\n",
              "  </tbody>\n",
              "</table>\n",
              "</div>"
            ],
            "text/plain": [
              "                   a         b         c         d\n",
              "2021-09-21 -2.038133 -1.104401 -1.895722  1.134665\n",
              "2021-09-22  1.444723  0.756179 -0.143790 -0.423577\n",
              "2021-09-23 -0.016780 -0.211663  1.637743 -1.047473\n",
              "2021-09-24 -0.130385  0.212221  0.235909  0.913849\n",
              "2021-09-25  1.379800  1.464644  0.349115  2.686932"
            ]
          },
          "metadata": {},
          "execution_count": 53
        }
      ]
    },
    {
      "cell_type": "code",
      "metadata": {
        "id": "s8_O2VA_rVzW"
      },
      "source": [
        ""
      ],
      "execution_count": 55,
      "outputs": []
    }
  ]
}